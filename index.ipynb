{
 "cells": [
  {
   "cell_type": "markdown",
   "metadata": {},
   "source": [
    "# Obtaining Your Data - Lab"
   ]
  },
  {
   "cell_type": "markdown",
   "metadata": {},
   "source": [
    "## Introduction\n",
    "In this lab you'll practice your munging and transforming skills in order to load in your data to solve a regression problem."
   ]
  },
  {
   "cell_type": "markdown",
   "metadata": {},
   "source": [
    "## Objectives\n",
    "You will be able to:\n",
    "* Understand the ETL(Extract, Transfome, and Load) process and the steps it consists of\n",
    "* Understand the challenges of working with data from multiple sources "
   ]
  },
  {
   "cell_type": "markdown",
   "metadata": {},
   "source": [
    "## Task Description\n",
    "\n",
    "You just got hired by Lego! Your first project is going to be to develop a pricing algorithm to help set a target price for new lego sets that are released to market. To do this, you're first going to need to start mining the company database in order to collect the information you need to develop a model.\n",
    "\n",
    "Start by investigating the database stored in lego.db and joining the tables into a unified dataset!\n",
    "\n",
    "> **Hint:** use this sql statement to preview the tables in an unknown database:\n",
    "```sql\n",
    "SELECT name FROM sqlite_master\n",
    "             WHERE type='table'\n",
    "             ORDER BY name;\n",
    "```"
   ]
  },
  {
   "cell_type": "code",
   "execution_count": 3,
   "metadata": {},
   "outputs": [],
   "source": [
    "# Your code here\n",
    "import sqlite3\n",
    "conn = sqlite3.connect('lego.db')\n",
    "cur = conn.cursor()"
   ]
  },
  {
   "cell_type": "code",
   "execution_count": 10,
   "metadata": {},
   "outputs": [],
   "source": [
    "query=\"\"\"SELECT name FROM sqlite_master\n",
    "            WHERE type = 'table'\n",
    "            ORDER BY name\"\"\"\n",
    "response =cur.execute(query).fetchall()"
   ]
  },
  {
   "cell_type": "code",
   "execution_count": 12,
   "metadata": {},
   "outputs": [
    {
     "data": {
      "text/plain": [
       "'product_details'"
      ]
     },
     "execution_count": 12,
     "metadata": {},
     "output_type": "execute_result"
    }
   ],
   "source": [
    "response[0][0]"
   ]
  },
  {
   "cell_type": "code",
   "execution_count": 13,
   "metadata": {},
   "outputs": [
    {
     "name": "stdout",
     "output_type": "stream",
     "text": [
      "product_details [(744,)] \n",
      "    prod_id prod_desc prod_long_desc theme_name\n",
      "0      630      blah       blahblah    Classic\n",
      "1     2304      blah       blahblah     DUPLO®\n",
      "2     7280      blah       blahblah       City\n",
      "3     7281      blah       blahblah       City\n",
      "4     7499      blah       blahblah       City \n",
      "\n",
      "\n",
      "product_info [(744,)] \n",
      "    prod_id  ages  piece_count                         set_name\n",
      "0      630    4+            1                  Brick Separator\n",
      "1     2304  1½-5            1     LEGO® DUPLO® Green Baseplate\n",
      "2     7280  5-12            2      Straight & Crossroad Plates\n",
      "3     7281  5-12            2  T-Junction & Curved Road Plates\n",
      "4     7499  5-12           24     Flexible and Straight Tracks \n",
      "\n",
      "\n",
      "product_pricing [(10870,)] \n",
      "    prod_id country list_price\n",
      "0    75823      US      29.99\n",
      "1    75822      US      19.99\n",
      "2    75821      US      12.99\n",
      "3    21030      US      99.99\n",
      "4    21035      US      79.99 \n",
      "\n",
      "\n",
      "product_reviews [(744,)] \n",
      "    prod_id  num_reviews  play_star_rating review_difficulty  star_rating  \\\n",
      "0      630          180               4.0         Very Easy          4.8   \n",
      "1     2304           15               4.4              Easy          4.0   \n",
      "2     7280           85               4.1         Very Easy          3.5   \n",
      "3     7281           40               4.1         Very Easy          3.9   \n",
      "4     7499           89               2.9              Easy          2.5   \n",
      "\n",
      "   val_star_rating  \n",
      "0              4.6  \n",
      "1              3.3  \n",
      "2              2.3  \n",
      "3              2.8  \n",
      "4              2.2   \n",
      "\n",
      "\n"
     ]
    }
   ],
   "source": [
    "import pandas as pd\n",
    "for item in response:\n",
    "    table = item[0]\n",
    "    length = cur.execute(f\"SELECT count(*) from {table}\").fetchall()\n",
    "    results = cur.execute(f\"SELECT * from {table} limit 5;\").fetchall()\n",
    "    df = pd.DataFrame(results)\n",
    "    df.columns = [i[0] for i in cur.description]\n",
    "    print(table, length, '\\n', df, '\\n\\n')"
   ]
  },
  {
   "cell_type": "code",
   "execution_count": null,
   "metadata": {},
   "outputs": [],
   "source": [
    "cmd = \"\"\"SELECT * from product_info\n",
    "        join product_details\n",
    "        using(prod_id)\n",
    "        join product_pricing\n",
    "        using(prod_id)\n",
    "        join product_reviews\n",
    "        using (prod_id);\"\"\"\n",
    "result = cur.execute(cmd).fetchall()\n",
    "df = pd.DataFrame(result)\n",
    "df.columns =[x[0] for x in cur.description]\n",
    "print(len(df))"
   ]
  },
  {
   "cell_type": "markdown",
   "metadata": {},
   "source": [
    "## Summary\n",
    "Nice work! You're working more and more independently through the workflow and ensuring data integrity!"
   ]
  }
 ],
 "metadata": {
  "kernelspec": {
   "display_name": "Python 3",
   "language": "python",
   "name": "python3"
  },
  "language_info": {
   "codemirror_mode": {
    "name": "ipython",
    "version": 3
   },
   "file_extension": ".py",
   "mimetype": "text/x-python",
   "name": "python",
   "nbconvert_exporter": "python",
   "pygments_lexer": "ipython3",
   "version": "3.6.6"
  },
  "toc": {
   "base_numbering": 1,
   "nav_menu": {},
   "number_sections": true,
   "sideBar": true,
   "skip_h1_title": false,
   "title_cell": "Table of Contents",
   "title_sidebar": "Contents",
   "toc_cell": false,
   "toc_position": {},
   "toc_section_display": true,
   "toc_window_display": false
  },
  "varInspector": {
   "cols": {
    "lenName": 16,
    "lenType": 16,
    "lenVar": 40
   },
   "kernels_config": {
    "python": {
     "delete_cmd_postfix": "",
     "delete_cmd_prefix": "del ",
     "library": "var_list.py",
     "varRefreshCmd": "print(var_dic_list())"
    },
    "r": {
     "delete_cmd_postfix": ") ",
     "delete_cmd_prefix": "rm(",
     "library": "var_list.r",
     "varRefreshCmd": "cat(var_dic_list()) "
    }
   },
   "types_to_exclude": [
    "module",
    "function",
    "builtin_function_or_method",
    "instance",
    "_Feature"
   ],
   "window_display": false
  }
 },
 "nbformat": 4,
 "nbformat_minor": 2
}
